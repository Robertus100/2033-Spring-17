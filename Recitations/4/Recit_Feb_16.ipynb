{
 "cells": [
  {
   "cell_type": "markdown",
   "metadata": {},
   "source": [
    "# Feb 16 Recitation\n",
    "\n",
    "### A short summary\n",
    "\n",
    "The `python` programming part of today's recitation will be brief - we'll mostly concentrate on homework and quiz problems. \n",
    "\n",
    "Plan for this recitation:\n",
    "\n",
    "* To see see how to compute the binomial coefficients (combinations $n$ choose $k$) in python.\n",
    "* To do problems 5 and 6 from today's homework.\n",
    "\n",
    "To begin, import these libraries:"
   ]
  },
  {
   "cell_type": "code",
   "execution_count": 1,
   "metadata": {
    "collapsed": true
   },
   "outputs": [],
   "source": [
    "from scipy.stats import binom\n",
    "import matplotlib.pyplot as plt\n",
    "%matplotlib inline \n",
    "import numpy as np"
   ]
  },
  {
   "cell_type": "markdown",
   "metadata": {},
   "source": [
    "## Combinations  $\\binom{n}{k}$ "
   ]
  },
  {
   "cell_type": "code",
   "execution_count": 2,
   "metadata": {
    "collapsed": false
   },
   "outputs": [
    {
     "name": "stdout",
     "output_type": "stream",
     "text": [
      "10.0\n"
     ]
    }
   ],
   "source": [
    "from scipy.special import comb\n",
    "k = 3\n",
    "#k = np.array([1, 5])\n",
    "n = 5\n",
    "#n = np.array([6, 6])\n",
    "print(comb(n, k))"
   ]
  },
  {
   "cell_type": "markdown",
   "metadata": {},
   "source": [
    "### Question 6 from homework\n",
    "Recall that in question 6 you were given:\n",
    "* 10 question mulitple choice exam. \n",
    "* Chances of answering a question correctly, independently of other questions: 1/4\n",
    "\n",
    "\n",
    "And we wanted to compute the probability of answering 6 or more questions correctly.\n",
    "\n",
    "Now, if you were interested in the following exact probabilities,\n",
    "$$ P(\\text{answer exactly 6 corectly} ) = \\binom{10}{6} (1/4)^6 (3/4)^4 $$\n",
    "$$ P(\\text{answer exactly 6 corectly} ) = \\binom{10}{7} (1/4)^7 (3/4)^3 $$\n",
    "$$ \\ldots $$\n",
    "$$ P(\\text{answer exactly 10 corectly} ) = \\binom{10}{10} (1/4)^{10} = (1/4)^{10} $$\n",
    "\n",
    "you might want to try the following approch (to be improved in a minute):"
   ]
  },
  {
   "cell_type": "code",
   "execution_count": 3,
   "metadata": {
    "collapsed": false
   },
   "outputs": [],
   "source": [
    "n = 10\n",
    "k = 6 \n",
    "p = 1/4\n",
    "#n, k, p = 10, 6, 1/4\n",
    "\n",
    "six_correct = comb(n, k) * (p)**k * (1 - p)**(n - k)\n",
    "#six_correct\n",
    "k = 7\n",
    "seven_correct = comb(n, k) * (p)**k * (1 - p)**(n - k)\n",
    "k = 8\n",
    "eight_correct = comb(n, k) * (p)**k * (1 - p)**(n - k)\n",
    "k = 9\n",
    "nine_correct = comb(n, k) * (p)**k * (1 - p)**(n - k)\n",
    "k = 10\n",
    "ten_correct = comb(n, k) * (p)**k * (1 - p)**(n - k)\n",
    "#ten_correct"
   ]
  },
  {
   "cell_type": "code",
   "execution_count": 4,
   "metadata": {
    "collapsed": false
   },
   "outputs": [
    {
     "data": {
      "text/plain": [
       "0.019727706909179688"
      ]
     },
     "execution_count": 4,
     "metadata": {},
     "output_type": "execute_result"
    }
   ],
   "source": [
    "six_or_more_correct = six_correct + seven_correct + eight_correct + nine_correct + ten_correct\n",
    "six_or_more_correct"
   ]
  },
  {
   "cell_type": "markdown",
   "metadata": {},
   "source": [
    "#### Now, with `numpy` you can do this much quicker:"
   ]
  },
  {
   "cell_type": "code",
   "execution_count": 5,
   "metadata": {
    "collapsed": false
   },
   "outputs": [
    {
     "name": "stdout",
     "output_type": "stream",
     "text": [
      "0.0197277069092\n"
     ]
    }
   ],
   "source": [
    "n = 10\n",
    "ks = np.arange(6, 11)\n",
    "\n",
    "sum = 0\n",
    "for k in ks:\n",
    "    sum = sum + comb(n, k) * (p)**k * (1 - p)**(n - k)\n",
    "print(sum)"
   ]
  },
  {
   "cell_type": "markdown",
   "metadata": {},
   "source": [
    "#### Or, to be pythonic about the whole thing:"
   ]
  },
  {
   "cell_type": "code",
   "execution_count": 6,
   "metadata": {
    "collapsed": false
   },
   "outputs": [
    {
     "data": {
      "text/plain": [
       "0.019727706909179688"
      ]
     },
     "execution_count": 6,
     "metadata": {},
     "output_type": "execute_result"
    }
   ],
   "source": [
    "probs = [comb(n, k) * (p)**k * (1 - p)**(n - k) for k in ks]\n",
    "np.sum(probs)"
   ]
  },
  {
   "cell_type": "markdown",
   "metadata": {},
   "source": [
    "## Problem 5 from homework\n",
    "\n",
    "Recall that in question 5 you were given:\n",
    "* 10 screws in a package.\n",
    "* Chances of a screw being defective: 0.01 \n",
    "\n",
    "You needed to compute the probability that 2 or more screws were defective.\n",
    "\n",
    "Well, it's easier to compute the probability that either no screws are defective or that exactly one screw is defective. We then subtract this probability from 1 to obtain the desired probability.\n",
    "\n"
   ]
  },
  {
   "cell_type": "code",
   "execution_count": 7,
   "metadata": {
    "collapsed": false
   },
   "outputs": [
    {
     "name": "stdout",
     "output_type": "stream",
     "text": [
      "0.995733799757\n",
      "0.00426620024283\n"
     ]
    }
   ],
   "source": [
    "n, p = 10, 0.01\n",
    "ks = np.arange(2)\n",
    "sum = 0\n",
    "for k in ks:\n",
    "    sum = sum + comb(n, k) * (p)**k * (1 - p)**(n - k)\n",
    "print(sum)\n",
    "print(1-sum)"
   ]
  },
  {
   "cell_type": "markdown",
   "metadata": {},
   "source": [
    "Or, to be pythonic about this"
   ]
  },
  {
   "cell_type": "code",
   "execution_count": 8,
   "metadata": {
    "collapsed": false
   },
   "outputs": [
    {
     "name": "stdout",
     "output_type": "stream",
     "text": [
      "0.00426620024283\n",
      "0.00426620024283\n"
     ]
    }
   ],
   "source": [
    "probs = [comb(n, k) * (p)**k * (1 - p)**(n - k) for k in ks]\n",
    "print(1 - np.sum(probs))\n",
    "\n",
    "# Which shoud be the same as:\n",
    "ks = np.arange(2, 11)\n",
    "probs = [comb(n, k) * (p)**k * (1 - p)**(n - k) for k in ks]\n",
    "print(np.sum(probs))"
   ]
  },
  {
   "cell_type": "markdown",
   "metadata": {},
   "source": [
    "### Binomial Probabilities\n",
    "We'll get to this next week, but there is an even better way to compute the above probabilites. "
   ]
  },
  {
   "cell_type": "code",
   "execution_count": 9,
   "metadata": {
    "collapsed": false
   },
   "outputs": [
    {
     "data": {
      "text/plain": [
       "0.019727706909179722"
      ]
     },
     "execution_count": 9,
     "metadata": {},
     "output_type": "execute_result"
    }
   ],
   "source": [
    "#for question 6\n",
    "n, p = 10, 0.25\n",
    "x = np.arange(0, 11)\n",
    "rv = binom(n, p)\n",
    "np.sum(rv.pmf(x)[6:])"
   ]
  },
  {
   "cell_type": "code",
   "execution_count": 10,
   "metadata": {
    "collapsed": false
   },
   "outputs": [
    {
     "data": {
      "text/plain": [
       "0.0042662002428314229"
      ]
     },
     "execution_count": 10,
     "metadata": {},
     "output_type": "execute_result"
    }
   ],
   "source": [
    "#for question 5\n",
    "n, p = 10, 0.01\n",
    "x = np.arange(0, 11)\n",
    "rv = binom(n, p)\n",
    "np.sum(rv.pmf(x)[2:])"
   ]
  },
  {
   "cell_type": "code",
   "execution_count": 16,
   "metadata": {
    "collapsed": false
   },
   "outputs": [
    {
     "name": "stdout",
     "output_type": "stream",
     "text": [
      "[  9.04382075e-01   9.13517247e-02   4.15235112e-03   1.11847842e-04\n",
      "   1.97710831e-06   2.39649493e-08   2.01725162e-10   1.16435880e-12\n",
      "   4.41045000e-15   9.90000000e-18   1.00000000e-20]\n"
     ]
    },
    {
     "data": {
      "text/plain": [
       "<Container object of 11 artists>"
      ]
     },
     "execution_count": 16,
     "metadata": {},
     "output_type": "execute_result"
    },
    {
     "data": {
      "image/png": "[encoded data removed]",
      "text/plain": [
       "<matplotlib.figure.Figure at 0x1145cf748>"
      ]
     },
     "metadata": {},
     "output_type": "display_data"
    }
   ],
   "source": [
    "print(rv.pmf(x))\n",
    "#len(rv.pmf(x))\n",
    "plt.bar(x, rv.pmf(x))"
   ]
  },
  {
   "cell_type": "code",
   "execution_count": null,
   "metadata": {
    "collapsed": true
   },
   "outputs": [],
   "source": []
  }
 ],
 "metadata": {
  "kernelspec": {
   "display_name": "Python 3",
   "language": "python",
   "name": "python3"
  },
  "language_info": {
   "codemirror_mode": {
    "name": "ipython",
    "version": 3
   },
   "file_extension": ".py",
   "mimetype": "text/x-python",
   "name": "python",
   "nbconvert_exporter": "python",
   "pygments_lexer": "ipython3",
   "version": "3.5.2"
  }
 },
 "nbformat": 4,
 "nbformat_minor": 0
}
