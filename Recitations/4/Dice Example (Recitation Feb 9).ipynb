{
 "cells": [
  {
   "cell_type": "markdown",
   "metadata": {},
   "source": [
    "## Dice Example\n",
    "Recall the homework problem where the experiment consisted of rolling two fair six-sided dice. An outcome of this experiment is the ordered pair of the faces shown. So the set of outcomes is given as\n",
    "$$ \\Omega = \\{ (1,1) (1,2), \\ldots (5,6), (6,6) \\}.$$\n",
    "\n",
    "Moreover, since we assumed that the dice are fair, all outcomes are equally likely with pribability:\n",
    "$$\n",
    "P( (1,2) ) = P(\\text{any other outcome}) = \\frac{1}{6^2}\n",
    "$$\n",
    "\n",
    "We are interested in the distribution of the sum of the faces shown.\n",
    "\n",
    "### Representing the sample space in `python`.\n",
    "\n",
    "First, let's represent the set $\\Omega$ as a `python` dictionary."
   ]
  },
  {
   "cell_type": "code",
   "execution_count": 17,
   "metadata": {
    "collapsed": false
   },
   "outputs": [
    {
     "name": "stdout",
     "output_type": "stream",
     "text": [
      "{(1, 3), (6, 6), (5, 6), (2, 1), (6, 2), (1, 6), (5, 1), (2, 5), (1, 2), (3, 3), (5, 5), (4, 4), (6, 3), (1, 5), (3, 6), (2, 2), (4, 1), (1, 1), (6, 4), (3, 2), (2, 6), (5, 4), (4, 5), (5, 2), (1, 4), (2, 3), (4, 2), (6, 5), (3, 5), (5, 3), (4, 6), (6, 1), (3, 1), (4, 3), (3, 4), (2, 4)}\n",
      "\n",
      "The total number of elements in the sample space is 36.\n",
      "\n"
     ]
    }
   ],
   "source": [
    "Omega = {(i,j) for i in range(1,7) for j in range(1,7)}\n",
    "print(Omega)\n",
    "print(\"\\nThe total number of elements in the sample space is {}.\\n\".format(len(Omega)))"
   ]
  },
  {
   "cell_type": "markdown",
   "metadata": {},
   "source": [
    "What is the probability that the sum of the dice equals seven? \n",
    "\n",
    "First, let's associate the $(a, b)$ pairs with their sum $a+b$. (We are essentially constructing a function $X : (a, b) \\rightarrow a+b$ from pairs of integers to integers.)\n",
    "\n",
    "We create a `python` dictionary called `face_sums` to create this association. "
   ]
  },
  {
   "cell_type": "code",
   "execution_count": 23,
   "metadata": {
    "collapsed": false
   },
   "outputs": [],
   "source": [
    "face_sums = {face_pair: face_pair[0] + face_pair[1] for face_pair in Omega}\n",
    "#print(face_sums)"
   ]
  },
  {
   "cell_type": "markdown",
   "metadata": {},
   "source": [
    "The next step is to collect all of the $(a, b)$ pairs that sum to each of the possible values\n",
    "from two to twelve."
   ]
  },
  {
   "cell_type": "code",
   "execution_count": 31,
   "metadata": {
    "collapsed": false
   },
   "outputs": [
    {
     "name": "stdout",
     "output_type": "stream",
     "text": [
      "(2, [(1, 1)])\n",
      "(3, [(2, 1), (1, 2)])\n",
      "(4, [(1, 3), (3, 1), (2, 2)])\n",
      "(5, [(3, 2), (1, 4), (2, 3), (4, 1)])\n",
      "(6, [(4, 2), (5, 1), (3, 3), (2, 4), (1, 5)])\n",
      "(7, [(4, 3), (1, 6), (2, 5), (5, 2), (6, 1), (3, 4)])\n",
      "(8, [(2, 6), (5, 3), (4, 4), (6, 2), (3, 5)])\n",
      "(9, [(5, 4), (6, 3), (3, 6), (4, 5)])\n",
      "(10, [(6, 4), (4, 6), (5, 5)])\n",
      "(11, [(5, 6), (6, 5)])\n",
      "(12, [(6, 6)])\n"
     ]
    }
   ],
   "source": [
    "from collections import defaultdict\n",
    "inverse_dict = defaultdict(list)\n",
    "for i,j in face_sums.items():\n",
    "    inverse_dict[j].append(i)\n",
    "\n",
    "for item in inverse_dict.items():\n",
    "    print(item)"
   ]
  },
  {
   "cell_type": "markdown",
   "metadata": {},
   "source": [
    "( _Aside_: The `defaultdict` object from the built-in collections module creates dictionaries with default values when it encounters a new key. Otherwise, we would have had to create default values manually for a regular dictionary. )"
   ]
  },
  {
   "cell_type": "markdown",
   "metadata": {},
   "source": [
    "### Compute the desired probability\n",
    "\n",
    "The next step is to compute the probability associated with each item. This can be done by counting the number of items in the corresponding list for each key in `inverse_dict` and dividing it by 36, since each of the items occurres with probability $1/36$. \n",
    "\n",
    "_For example_, inverse_dict[10] contains [(5, 5), (4, 6), (6, 4)]. The probability of $5 + 5 = 4 + 6 = 6 + 4 = 10$ is the probability of the set which is composed of the sum of the probabilities of the individual elements $(5, 5) (4, 6),(6, 4)$. In this case, we have \n",
    "\n",
    "$$P(10) = P(\\{(5, 5)\\}) + P(\\{(4, 6)\\}) + P({(6, 4)}) = 1/36 + 1/36 + 1/36 = 3/36.$$\n",
    "\n",
    "Repeating this procedure for all the elements, we get"
   ]
  },
  {
   "cell_type": "code",
   "execution_count": 42,
   "metadata": {
    "collapsed": false
   },
   "outputs": [
    {
     "name": "stdout",
     "output_type": "stream",
     "text": [
      "             2 occurs with 0.0278 probability\n",
      "             3 occurs with 0.0556 probability\n",
      "             4 occurs with 0.0833 probability\n",
      "             5 occurs with 0.1111 probability\n",
      "             6 occurs with 0.1389 probability\n",
      "             7 occurs with 0.1667 probability\n",
      "             8 occurs with 0.1389 probability\n",
      "             9 occurs with 0.1111 probability\n",
      "            10 occurs with 0.0833 probability\n",
      "            11 occurs with 0.0556 probability\n",
      "            12 occurs with 0.0278 probability\n"
     ]
    }
   ],
   "source": [
    "X = { i:len(j)/36. for i,j in inverse_dict.items() }\n",
    "for key, val in X.items():\n",
    "    print('{:14} occurs with {:5.4f} probability'.format(key, val))"
   ]
  },
  {
   "cell_type": "code",
   "execution_count": 56,
   "metadata": {
    "collapsed": false
   },
   "outputs": [
    {
     "data": {
      "image/png": "[encoded data removed]",
      "text/plain": [
       "<matplotlib.figure.Figure at 0x112d91ba8>"
      ]
     },
     "metadata": {},
     "output_type": "display_data"
    }
   ],
   "source": [
    "import matplotlib.pyplot as plt\n",
    "%matplotlib inline \n",
    "import numpy as np\n",
    "x = np.fromiter(iter(X.keys()), dtype=int)\n",
    "y = np.fromiter(iter(X.values()), dtype=float)\n",
    "plt.bar(x,y);"
   ]
  },
  {
   "cell_type": "code",
   "execution_count": null,
   "metadata": {
    "collapsed": true
   },
   "outputs": [],
   "source": []
  }
 ],
 "metadata": {
  "kernelspec": {
   "display_name": "Python 3",
   "language": "python",
   "name": "python3"
  },
  "language_info": {
   "codemirror_mode": {
    "name": "ipython",
    "version": 3
   },
   "file_extension": ".py",
   "mimetype": "text/x-python",
   "name": "python",
   "nbconvert_exporter": "python",
   "pygments_lexer": "ipython3",
   "version": "3.5.2"
  }
 },
 "nbformat": 4,
 "nbformat_minor": 0
}
