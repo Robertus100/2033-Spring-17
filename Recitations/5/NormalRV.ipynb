{
 "cells": [
  {
   "cell_type": "markdown",
   "metadata": {},
   "source": [
    "## The Normal Random Variable"
   ]
  },
  {
   "cell_type": "code",
   "execution_count": 1,
   "metadata": {
    "collapsed": true
   },
   "outputs": [],
   "source": [
    "from scipy.stats import norm\n",
    "import matplotlib.pyplot as plt\n",
    "%matplotlib inline \n",
    "import numpy as np"
   ]
  },
  {
   "cell_type": "code",
   "execution_count": 2,
   "metadata": {
    "collapsed": false
   },
   "outputs": [
    {
     "name": "stdout",
     "output_type": "stream",
     "text": [
      "Standard Normal Mean:     0.0\n",
      "Standard Normal Variance: 1.0\n"
     ]
    }
   ],
   "source": [
    "mean, var = norm.stats(moments='mv')\n",
    "print(\"Standard Normal Mean:    \", mean)\n",
    "print(\"Standard Normal Variance:\", var)"
   ]
  },
  {
   "cell_type": "code",
   "execution_count": 3,
   "metadata": {
    "collapsed": false
   },
   "outputs": [
    {
     "data": {
      "image/png": "[encoded data removed]",
      "text/plain": [
       "<matplotlib.figure.Figure at 0x110338a20>"
      ]
     },
     "metadata": {},
     "output_type": "display_data"
    }
   ],
   "source": [
    "fig, ax = plt.subplots(1, 1)\n",
    "x = np.linspace(-4, 4, 100)\n",
    "ax.plot(x, norm.pdf(x), 'b-', lw=3, alpha=0.6);"
   ]
  },
  {
   "cell_type": "markdown",
   "metadata": {},
   "source": [
    "### Homework Problem 3\n",
    "\n",
    "(a) Find $P(X \\leq 1.5)$ and $P(X \\leq -1)$"
   ]
  },
  {
   "cell_type": "code",
   "execution_count": 4,
   "metadata": {
    "collapsed": false
   },
   "outputs": [
    {
     "name": "stdout",
     "output_type": "stream",
     "text": [
      "CDF @ 1.5:               0.933192798731\n",
      "Area to the left of -1:  0.158655253931\n",
      "Area to the right of 1:  0.158655253931\n"
     ]
    }
   ],
   "source": [
    "print(\"CDF @ 1.5:              \", norm.cdf(1.5))\n",
    "print(\"Area to the left of -1: \", norm.cdf(-1))\n",
    "print(\"Area to the right of 1: \", 1 - norm.cdf(1) )"
   ]
  },
  {
   "cell_type": "markdown",
   "metadata": {},
   "source": [
    "(b) If $Y \\sim N(1,4)$, then \n",
    "$$E\\Big[\\frac{1}{2} Y - \\frac{1}{2}\\Big] = \\frac{1}{2}E[Y] - \\frac{1}{2} = \\frac{1}{2} \\cdot 1 - \\frac{1}{2} = 0$$ \n",
    "\n",
    "and \n",
    "$$\n",
    "var\\Big(\\frac{1}{2} Y - \\frac{1}{2}\\Big) = \\Big(\\frac{1}{2}\\Big)^2 \\cdot var(Y) = \\Big(\\frac{1}{2}\\Big)^2 \\cdot 4 = 1\n",
    "$$\n",
    "\n",
    "Thus $\\Big(\\frac{1}{2} Y - \\frac{1}{2}\\Big) \\sim N(0, 1)$\n",
    "\n",
    "---------------------------------------------------------------------------------------------------\n",
    "(c) $$P\\Big( -1 \\leq Y \\leq 1\\Big) = P \\Big( \\frac{-1 -1}{2} \\leq \\frac{Y -1}{2} \\leq \\frac{1 -1}{2}\\Big) = P( -1 \\leq Z \\leq 0 )$$ \n",
    "\n",
    "where $Z$ denotes the standard normal ($\\ Z \\sim N(0,1) \\ $)."
   ]
  },
  {
   "cell_type": "code",
   "execution_count": 5,
   "metadata": {
    "collapsed": false
   },
   "outputs": [
    {
     "name": "stdout",
     "output_type": "stream",
     "text": [
      "0.341344746069\n",
      "0.341344746069\n"
     ]
    }
   ],
   "source": [
    "ans = norm.cdf(0) - norm.cdf(-1)\n",
    "print(ans)\n",
    "\n",
    "# you check this directly, without converting Y to the standard normal, as follows:\n",
    "ans = norm.cdf(1, 1, 2) - norm.cdf(-1, 1, 2)\n",
    "print(ans)"
   ]
  },
  {
   "cell_type": "markdown",
   "metadata": {
    "collapsed": true
   },
   "source": [
    "On quizzes, you will be asked to compute various probabilities related to general normal distributions. You will also be given a table for the standard normal distribution. To answer the questions, you'd have to scale and shift the general normal distribution appropriately, as shown in the previous example and as discussed in class, so that you can look up the answers in the table.\n",
    "\n",
    "One could plot both distributions:"
   ]
  },
  {
   "cell_type": "code",
   "execution_count": 6,
   "metadata": {
    "collapsed": false
   },
   "outputs": [
    {
     "data": {
      "image/png": "[encoded data removed]",
      "text/plain": [
       "<matplotlib.figure.Figure at 0x1106a16d8>"
      ]
     },
     "metadata": {},
     "output_type": "display_data"
    }
   ],
   "source": [
    "fig, ax = plt.subplots(1, 1)\n",
    "x = np.linspace(-4, 7, 300)\n",
    "ax.plot(x, norm.pdf(x), 'b-', lw=2);\n",
    "ax.plot(x, norm.pdf(x, 1, 2), 'g-', lw=2);"
   ]
  }
 ],
 "metadata": {
  "kernelspec": {
   "display_name": "Python 3",
   "language": "python",
   "name": "python3"
  },
  "language_info": {
   "codemirror_mode": {
    "name": "ipython",
    "version": 3
   },
   "file_extension": ".py",
   "mimetype": "text/x-python",
   "name": "python",
   "nbconvert_exporter": "python",
   "pygments_lexer": "ipython3",
   "version": "3.5.2"
  }
 },
 "nbformat": 4,
 "nbformat_minor": 0
}
