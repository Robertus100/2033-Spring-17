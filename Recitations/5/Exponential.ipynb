{
 "cells": [
  {
   "cell_type": "markdown",
   "metadata": {},
   "source": [
    "### The Exponential Random Variable\n",
    "\n",
    "#### One thing to keep in mind when dealing with the exponential distribution in `scipy`:\n",
    "\n",
    "In our notation, an exponentially distributed random variable $X$ with the parameter $\\lambda$ has the pdf  $\\ f_X(x) = \\lambda e^{\\lambda x} \\ $ whenever $x \\geq 0$ and $f_X(x) = 0$ whenever $x < 0$. The $\\lambda$ here is referred to as the *rate* parameter. \n",
    "\n",
    "An alternative parametrization for the exponential distribution uses the so-called *scale* parameter, which is the inverse of the rate parameter: scale = $1/\\lambda$. Thus, in terms of the scale parameter, $X$ has the pdf $f_X(x) = \\frac{1}{\\texttt{scale}} e^{\\frac{1}{\\texttt{scale}}  x}$ whenever $x \\geq 0$. \n",
    "\n",
    "`scipy` uses the scale parameter."
   ]
  },
  {
   "cell_type": "code",
   "execution_count": 1,
   "metadata": {
    "collapsed": true
   },
   "outputs": [],
   "source": [
    "from scipy.stats import expon\n",
    "import matplotlib.pyplot as plt\n",
    "%matplotlib inline \n",
    "import numpy as np"
   ]
  },
  {
   "cell_type": "markdown",
   "metadata": {},
   "source": [
    "You can plot this distribution as shown below. Try to plot a few pdfs for a few different values of the scale parameter to get a better feel for this distribution."
   ]
  },
  {
   "cell_type": "code",
   "execution_count": 2,
   "metadata": {
    "collapsed": false
   },
   "outputs": [
    {
     "data": {
      "image/png": "[encoded data removed]",
      "text/plain": [
       "<matplotlib.figure.Figure at 0x111466320>"
      ]
     },
     "metadata": {},
     "output_type": "display_data"
    }
   ],
   "source": [
    "fig, ax = plt.subplots(1, 1)\n",
    "x = np.linspace(expon.ppf(0.01), expon.ppf(0.99), 100)\n",
    "ax.plot(x, expon.pdf(x), 'b-', lw=3, alpha=0.8);\n",
    "ax.plot(x, expon.pdf(x, scale = 1/2), 'r-', lw=3, alpha=0.8);   # scale = 1/2 corresponds to lambda = 2 in our notation\n",
    "ax.plot(x, expon.pdf(x, scale = 2), 'g-', lw=3, alpha=0.8);"
   ]
  },
  {
   "cell_type": "markdown",
   "metadata": {},
   "source": [
    "For example, the solution to homework question 7 can be computed as follows:"
   ]
  },
  {
   "cell_type": "code",
   "execution_count": 3,
   "metadata": {
    "collapsed": false
   },
   "outputs": [
    {
     "name": "stdout",
     "output_type": "stream",
     "text": [
      "Answer to hwk question 7:  60.3944517467\n"
     ]
    }
   ],
   "source": [
    "rv = expon(loc=0, scale=30)  # this is the exponential with mean = 30 (i.e. its lambda is 1/30 and its scale is 30 )\n",
    "print(\"Answer to hwk question 7: \", 35*rv.cdf(5) + 65*(1 - rv.cdf(5)))"
   ]
  },
  {
   "cell_type": "code",
   "execution_count": null,
   "metadata": {
    "collapsed": true
   },
   "outputs": [],
   "source": []
  }
 ],
 "metadata": {
  "kernelspec": {
   "display_name": "Python 3",
   "language": "python",
   "name": "python3"
  },
  "language_info": {
   "codemirror_mode": {
    "name": "ipython",
    "version": 3
   },
   "file_extension": ".py",
   "mimetype": "text/x-python",
   "name": "python",
   "nbconvert_exporter": "python",
   "pygments_lexer": "ipython3",
   "version": "3.5.2"
  }
 },
 "nbformat": 4,
 "nbformat_minor": 0
}
