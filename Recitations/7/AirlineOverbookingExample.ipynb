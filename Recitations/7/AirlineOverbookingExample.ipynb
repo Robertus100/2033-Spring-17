{
 "cells": [
  {
   "cell_type": "markdown",
   "metadata": {},
   "source": [
    "## Airline Overbooking\n",
    "\n",
    "> *CIS 2033, Spring 2017*\n",
    "\n",
    ">  *April 20, 2017*\n",
    "\n",
    "### Homework 8, Question 4 \n",
    "\n",
    "For any given flight, an airline tries to\n",
    "sell as many tickets as possible. Suppose that on average, 10% of ticket\n",
    "holders fail to show up, all independent of one another. Knowing this, an\n",
    "airline will sell more tickets than there are seats available (i.e., overbook\n",
    "the flight) and hope that there is a sufficient number of ticket holders who\n",
    "do not show up to compensate for its overbooking. \n",
    "\n",
    "Using the Central Limit Theorem, determine $n$, the maximum number of\n",
    "tickets an airline should sell on a flight with 300 seats so that it can be\n",
    "approximately 99% confident that all ticket holders who do show up will\n",
    "be able to board the plane. Use the 1/2-correction we discussed in class in\n",
    "your calculations.\n",
    "\n",
    "\n",
    "#### Solution\n",
    "\n",
    "+ Let $n$ be the number of tickets the airline sells.\n",
    "+ Let $X_i$ be the Bernoulli random variable indicating whether the $i$-th ticket holder shows up. \n",
    "+ We are given that $p$, the probability that the $i$-th ticket holder shows up, is $p = {\\bf P} (X_i = 1) = 0.9$.\n",
    "\n",
    "Then $S_n = X_1 + X_2 + \\ldots + X_n$ is a binomial random variable with mean $n \\cdot p = 0.9 \\cdot n$ and standard deviation of $\\sqrt{n \\cdot 0.9 \\cdot 0.1} = 0.3\\sqrt{n}$\n",
    "\n",
    "We would like\n",
    "$$\n",
    "{\\bf P}(S_n \\leq 300) \\approx 0.99\n",
    "$$\n",
    "\n",
    "or, using the 1/2 correction,\n",
    "$$\n",
    "{\\bf P}\\Big(\\ \\frac{S_n - 0.9 \\cdot n}{0.3 \\cdot \\sqrt{n}} \\leq \\frac{305.5 - 0.9 \\cdot n}{0.3 \\cdot \\sqrt{n}} \\  \\Big) \\approx {\\bf P} \\Big(Z \\leq \\frac{305.5 - 0.9 \\cdot n}{0.3 \\cdot \\sqrt{n}} \\Big) = 0.99,\n",
    "$$\n",
    "\n",
    "where $Z$ stands for the standard normal. Now, the CDF of the standard normal takes the value of $0.99$ when"
   ]
  },
  {
   "cell_type": "code",
   "execution_count": 1,
   "metadata": {
    "collapsed": false
   },
   "outputs": [
    {
     "name": "stdout",
     "output_type": "stream",
     "text": [
      "The point at which the CDF of the standard normal is 0.99 is:  2.32634787404\n"
     ]
    }
   ],
   "source": [
    "from scipy.stats import norm\n",
    "import math\n",
    "\n",
    "rv = norm()\n",
    "r = rv.ppf(0.99)       # alternatively, look this value up in the standard normal table\n",
    "print(\"The point at which the CDF of the standard normal is 0.99 is: \", r)"
   ]
  },
  {
   "cell_type": "markdown",
   "metadata": {},
   "source": [
    "So we've got to find $n$ that satisfies the following equation:\n",
    "$$\n",
    "\\frac{300.5 - 0.9 \\cdot n}{0.3 \\cdot \\sqrt{n}} = 2.3263,\n",
    "$$\n",
    "\n",
    "which is the same as \n",
    "$$\n",
    "0.9 \\cdot n + 0.3 \\cdot 2.3263 \\cdot \\sqrt{n} - 300.5 = 0\n",
    "$$\n",
    "\n",
    "This is a quadratic equation in $\\sqrt{n}$, which can be solved using the familiar formula:"
   ]
  },
  {
   "cell_type": "code",
   "execution_count": 2,
   "metadata": {
    "collapsed": false
   },
   "outputs": [
    {
     "name": "stdout",
     "output_type": "stream",
     "text": [
      "The number of tickets to sell:  320.01686473120986\n"
     ]
    }
   ],
   "source": [
    "a = 0.9\n",
    "b = 0.3 * 2.32634787404\n",
    "c = -300.5\n",
    "solution2quad_eq = (-b + math.sqrt(b**2 - 4*a*c)) / (2 * a)\n",
    "\n",
    "n = solution2quad_eq**2\n",
    "print(\"The number of tickets to sell: \", n)"
   ]
  },
  {
   "cell_type": "markdown",
   "metadata": {},
   "source": [
    "Of course you can't sell $320.01686473120986$ tickets, so you go with $\\boxed{320}$."
   ]
  }
 ],
 "metadata": {
  "kernelspec": {
   "display_name": "Python 3",
   "language": "python",
   "name": "python3"
  },
  "language_info": {
   "codemirror_mode": {
    "name": "ipython",
    "version": 3
   },
   "file_extension": ".py",
   "mimetype": "text/x-python",
   "name": "python",
   "nbconvert_exporter": "python",
   "pygments_lexer": "ipython3",
   "version": "3.5.2"
  }
 },
 "nbformat": 4,
 "nbformat_minor": 0
}
