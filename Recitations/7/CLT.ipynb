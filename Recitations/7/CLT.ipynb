{
 "cells": [
  {
   "cell_type": "markdown",
   "metadata": {},
   "source": [
    "# The Central Limit Theorem\n",
    "\n",
    "The Weak Law of Large Numbers tells us that the sample mean -- that is, the average of independent\n",
    "identically distributed random variables $X_i$ -- converges, in a certain sense, to a number, namely the\n",
    "expected value of the random variables, $X_i$. But it does not tell us much about the details of the\n",
    "distribution of the sample mean.\n",
    "\n",
    "The central limit theorem provides us exactly with this kind of detail. It tells us that the sum of many\n",
    "independent identically distributed random variables has approximately a normal distribution. The mean\n",
    "and variance of this normal is easy to find if we know the mean and variance of the original random\n",
    "variables. This enables us to carry out approximate calculations rather quickly by using the normal\n",
    "tables.\n",
    "\n",
    "We are going to look at the distribution of the sample mean, $M_n$, of a uniformly distributed random variable $X$. \n",
    "\n",
    "For concreteness, let's take $X \\sim$ Uniform[0, 1], and let's draw samples of size 10 from this distribution. Having drawn a sample of size 10, we compute its average. This will constitute a single observation on $M_{10}$.  \n",
    "\n",
    "Next, we draw another sample of size 10 and compute its average to obtain the next observation of $M_{10}$. We continue this process, say 10000 times, to obtain 10000 observations of $M_{10}$. \n",
    "\n",
    "Having obtained the 10000 observations on $M_{10}$, we plot a histogram of these observations. \n",
    "\n",
    "One way to do it in `python` is to create a $10 \\times 10000$ `numpy` array. Across the rows (that is in each of the 1000 columns), we have the 10 observations of $X$, which we average to compute $M_{10}$. We store each of the $M_{10}$ observations in a single array of size $1 \\times 10000$, and then use the `hist()` function to plot the histogram.\n",
    "\n",
    "In the following figure we plot a normal PDF whose together with the histogram. We will have much more to say about the Central Limit Theorem at the next lecture, and you will have an opportunity to learn more as you work through your next programming assignment and homework."
   ]
  },
  {
   "cell_type": "code",
   "execution_count": 9,
   "metadata": {
    "collapsed": false
   },
   "outputs": [
    {
     "data": {
      "text/plain": [
       "(0.001, 4.5)"
      ]
     },
     "execution_count": 9,
     "metadata": {},
     "output_type": "execute_result"
    },
    {
     "data": {
      "image/png": "[encoded data removed]",
      "text/plain": [
       "<matplotlib.figure.Figure at 0x11409b898>"
      ]
     },
     "metadata": {},
     "output_type": "display_data"
    }
   ],
   "source": [
    "import numpy as np\n",
    "from matplotlib import pyplot as plt\n",
    "%matplotlib inline\n",
    "from scipy.stats import norm\n",
    "\n",
    "\n",
    "X = np.random.random((10, 10000))       # These are the uniform r.v.s, stored in a 10 X 1000 array\n",
    "M_10 = X.mean(axis=0)                   # Compute the average of each column (axis=0)\n",
    "#print(M_10)                            # Now M_10 holds our observations of the sample mean (of size 10)\n",
    "\n",
    "\n",
    "fig, ax = plt.subplots(1, 1)\n",
    "\n",
    "bins = np.linspace(0, 1, 30)            # We'll be placing our observaions on M_10 into 30 bins\n",
    "ax.hist(M_10, bins, color = \"cornflowerblue\", alpha=0.3, normed=True);\n",
    "#plt.hist(M_10, bins, color = \"cornflowerblue\", histtype='stepfilled', alpha=0.9, normed=True);\n",
    "\n",
    "mu = 0.5\n",
    "sigma = 1.0 / np.sqrt(12*10)\n",
    "dist = norm(mu, sigma)\n",
    "x_pdf = np.linspace(-.05, 1.5, 1000)\n",
    "ax.plot(x_pdf, dist.pdf(x_pdf), 'b-')\n",
    "ax.set_xlim(0.0, 1.0)\n",
    "ax.set_ylim(0.001, None)"
   ]
  },
  {
   "cell_type": "code",
   "execution_count": null,
   "metadata": {
    "collapsed": true
   },
   "outputs": [],
   "source": []
  }
 ],
 "metadata": {
  "kernelspec": {
   "display_name": "Python 3",
   "language": "python",
   "name": "python3"
  },
  "language_info": {
   "codemirror_mode": {
    "name": "ipython",
    "version": 3
   },
   "file_extension": ".py",
   "mimetype": "text/x-python",
   "name": "python",
   "nbconvert_exporter": "python",
   "pygments_lexer": "ipython3",
   "version": "3.5.2"
  }
 },
 "nbformat": 4,
 "nbformat_minor": 0
}
