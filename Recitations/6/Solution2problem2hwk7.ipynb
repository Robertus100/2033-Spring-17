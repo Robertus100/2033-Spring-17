{
 "cells": [
  {
   "cell_type": "markdown",
   "metadata": {},
   "source": [
    "### Homework 7, question 2\n",
    "\n",
    "In this notebook, we verify our solution to question 2 from homework 7. \n",
    "\n",
    "The joint probability table is already given in the problem. We first store this table as a `numpy` array."
   ]
  },
  {
   "cell_type": "code",
   "execution_count": null,
   "metadata": {
    "collapsed": false
   },
   "outputs": [],
   "source": [
    "import numpy as np\n",
    "\n",
    "row_1 = np.array([0.217, 0.153, 0.057])\n",
    "row_2 = np.array([0.106, 0.244, 0.223])\n",
    "\n",
    "joint_table = np.vstack((row_1, row_2))\n",
    "print(joint_table)"
   ]
  },
  {
   "cell_type": "markdown",
   "metadata": {},
   "source": [
    "Next, we compute the marginal distributions of $X$ and $Y$. (Although the marginal distributions are also given to you in the problem formulation, we still would like to verify that the joint probability table is consistent with the marginals.)"
   ]
  },
  {
   "cell_type": "code",
   "execution_count": null,
   "metadata": {
    "collapsed": false
   },
   "outputs": [],
   "source": [
    "X_marginal = np.sum(joint_table, axis=0)\n",
    "print(X_marginal)"
   ]
  },
  {
   "cell_type": "code",
   "execution_count": null,
   "metadata": {
    "collapsed": false
   },
   "outputs": [],
   "source": [
    "Y_marginal = np.sum(joint_table, axis=1)\n",
    "print(Y_marginal)"
   ]
  },
  {
   "cell_type": "code",
   "execution_count": null,
   "metadata": {
    "collapsed": false
   },
   "outputs": [],
   "source": [
    "# final sanity check to ensure that the probabilities sum up to 1\n",
    "np.sum(Y_marginal) == np.sum(X_marginal) == 1"
   ]
  },
  {
   "cell_type": "markdown",
   "metadata": {},
   "source": [
    "We now compute the expected values of the marginals, ${\\bf E}[X]$ and ${\\bf E}[Y]$, and the expected value of the product, ${\\bf E}[XY]$."
   ]
  },
  {
   "cell_type": "code",
   "execution_count": null,
   "metadata": {
    "collapsed": false
   },
   "outputs": [],
   "source": [
    "X_values = np.array([1,2,3])  # the values taken on by the random variable X, given in the problem\n",
    "Y_values = np.array([1,2])    # the values taken on by the random variable X, given in the problem\n",
    "E_X = np.sum(X_values * X_marginal)\n",
    "print(\"E[X] = \", E_X)\n",
    "E_Y = np.sum(Y_values * Y_marginal)\n",
    "print(\"E[Y] = \", E_Y)"
   ]
  },
  {
   "cell_type": "code",
   "execution_count": null,
   "metadata": {
    "collapsed": false
   },
   "outputs": [],
   "source": [
    "#x = np.array([1, 2, 3])\n",
    "#y = np.array([1,2])\n",
    "#XY = np.outer(x,y).T\n",
    "XY_values = np.outer(X_values,Y_values).T\n",
    "#print(XY_values)\n",
    "E_XY = np.sum(XY_values*joint_table)\n",
    "print(\"E[XY] = \", E_XY)"
   ]
  },
  {
   "cell_type": "markdown",
   "metadata": {},
   "source": [
    "We are now ready to compute the covariance:"
   ]
  },
  {
   "cell_type": "code",
   "execution_count": null,
   "metadata": {
    "collapsed": false
   },
   "outputs": [],
   "source": [
    "Cov_XY = E_XY - E_X * E_Y\n",
    "print(\"Cov(XY) = \", Cov_XY)"
   ]
  },
  {
   "cell_type": "markdown",
   "metadata": {},
   "source": [
    "To compute the correlation coefficient, we need the to compute the variances for the marginal distributions first. "
   ]
  },
  {
   "cell_type": "code",
   "execution_count": null,
   "metadata": {
    "collapsed": false
   },
   "outputs": [],
   "source": [
    "E_X_squared = np.sum(X_values**2 * X_marginal)\n",
    "#print(E_X_squared)\n",
    "\n",
    "Var_X = E_X_squared - E_X**2\n",
    "Std_X = np.sqrt(Var_X)\n",
    "print(\"Var(X) = \", Var_X, \"---> Std(X) = \", Std_X)\n",
    "\n",
    "E_Y_squared = np.sum(Y_values**2 * Y_marginal)\n",
    "#print(E_Y_squared)\n",
    "\n",
    "Var_Y = E_Y_squared - E_Y**2\n",
    "Std_Y = np.sqrt(Var_Y)\n",
    "print(\"Var(Y) = \", Var_Y, \"---> Std(Y) = \", Std_Y)\n"
   ]
  },
  {
   "cell_type": "markdown",
   "metadata": {},
   "source": [
    "We now have all the ingredients we need to compute the correlation coefficient:"
   ]
  },
  {
   "cell_type": "code",
   "execution_count": null,
   "metadata": {
    "collapsed": false
   },
   "outputs": [],
   "source": [
    "rho_XY = Cov_XY / (Std_X*Std_Y)\n",
    "print(\"Finally, the correlation coefficient is \", rho_XY)"
   ]
  }
 ],
 "metadata": {
  "kernelspec": {
   "display_name": "Python 3",
   "language": "python",
   "name": "python3"
  },
  "language_info": {
   "codemirror_mode": {
    "name": "ipython",
    "version": 3
   },
   "file_extension": ".py",
   "mimetype": "text/x-python",
   "name": "python",
   "nbconvert_exporter": "python",
   "pygments_lexer": "ipython3",
   "version": "3.5.2"
  }
 },
 "nbformat": 4,
 "nbformat_minor": 0
}
