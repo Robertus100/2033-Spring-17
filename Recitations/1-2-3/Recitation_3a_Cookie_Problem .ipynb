{
 "cells": [
  {
   "cell_type": "markdown",
   "metadata": {},
   "source": [
    "# The cookie problem\n",
    "\n",
    "(This problem is from Allen Downey's book Think Bayes, and is based on an example from the [wikipedia page on Bayes Theorem](https://en.wikipedia.org/wiki/Bayes'_theorem) that is no longer there.) \n",
    "\n",
    "You have two bowls of cookies. \n",
    "* Bowl 1 contains 30 vanilla cookies and 10 chocolate cookies. \n",
    "* Bowl 2 contains 20 of each.\n",
    "\n",
    "Now suppose you choose one of the bowls at random and, without looking, select a cookie at random. The cookie is vanilla. What is the probability that it came from Bowl 1?\n",
    "\n",
    "So we want the conditional probability \n",
    "$$P( \\ \\text{Bowl 1} \\mid  \\text{Vanilla}\\ )$$\n",
    "\n",
    "Now, take moment to solve this problem using the Bayes theorem we discussed in class (which would also be a good practice for the quiz to be given later today).\n",
    "\n",
    "When you're done, we'll use a function from the Think Bayes book to obtain the same same answer.\n",
    "\n",
    "The library of functions we need are stored in files `thinkbayes2.py` and `thinkplot.py`, both of which can be found on the following page https://github.com/AllenDowney/ThinkBayes2/tree/master/code. \n",
    "\n",
    "Before proceeding, download these two files and save them in the same directory from which you're running your `ipython` notebook."
   ]
  },
  {
   "cell_type": "code",
   "execution_count": null,
   "metadata": {
    "collapsed": false
   },
   "outputs": [],
   "source": [
    "from thinkbayes2 import Pmf"
   ]
  },
  {
   "cell_type": "code",
   "execution_count": null,
   "metadata": {
    "collapsed": false
   },
   "outputs": [],
   "source": [
    "pmf = Pmf()\n",
    "pmf.Set('Bowl 1', 0.5)\n",
    "pmf.Set('Bowl 2', 0.5)"
   ]
  },
  {
   "cell_type": "markdown",
   "metadata": {},
   "source": [
    "`Pmf` uses a Python dictionary to store the values and their probabilities, so the values in the Pmf can be any hashable type. The probabilities can be any numerical type, but they are usually floating-point numbers (type float).\n",
    "\n",
    "In the cookie problem, the hypotheses \"draw from Bowl 1\" and \"draw from Bowl 2\" are represent with strings, and `Pmf` maps each hypothesis to its probability. \n",
    "\n",
    "This distribution (which whick bowl is chosen with what probability) is called the _prior distribution_. Here each bowl is chosen with probability 0.5.\n",
    "\n",
    "##### Now let's update our belief about the prior (bowl), given that the cookie is vanilla "
   ]
  },
  {
   "cell_type": "code",
   "execution_count": null,
   "metadata": {
    "collapsed": false
   },
   "outputs": [],
   "source": [
    "pmf.Mult('Bowl 1', 0.75)\n",
    "pmf.Mult('Bowl 2', 0.5)"
   ]
  },
  {
   "cell_type": "markdown",
   "metadata": {},
   "source": [
    "Mult does what you would expect. It gets the probability for the given hypothesis and multiplies by the given conditional probabilitie (also called likelihood).\n",
    "\n",
    "After this update, the distribution is no longer normalized, but because these hypotheses are mutually exclusive and collectively exhaustive, we can renormalize:"
   ]
  },
  {
   "cell_type": "code",
   "execution_count": null,
   "metadata": {
    "collapsed": false
   },
   "outputs": [],
   "source": [
    "pmf.Normalize();"
   ]
  },
  {
   "cell_type": "markdown",
   "metadata": {},
   "source": [
    "Finally, we print the result and see if it agrees with our earlier back-of-the-envelope calculation:"
   ]
  },
  {
   "cell_type": "code",
   "execution_count": null,
   "metadata": {
    "collapsed": false
   },
   "outputs": [],
   "source": [
    "print(pmf.Prob('Bowl 1'))"
   ]
  },
  {
   "cell_type": "code",
   "execution_count": null,
   "metadata": {
    "collapsed": true
   },
   "outputs": [],
   "source": []
  }
 ],
 "metadata": {
  "kernelspec": {
   "display_name": "Python 3",
   "language": "python",
   "name": "python3"
  },
  "language_info": {
   "codemirror_mode": {
    "name": "ipython",
    "version": 3
   },
   "file_extension": ".py",
   "mimetype": "text/x-python",
   "name": "python",
   "nbconvert_exporter": "python",
   "pygments_lexer": "ipython3",
   "version": "3.5.2"
  }
 },
 "nbformat": 4,
 "nbformat_minor": 0
}
