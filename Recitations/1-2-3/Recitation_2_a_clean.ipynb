{
 "cells": [
  {
   "cell_type": "markdown",
   "metadata": {},
   "source": [
    "# Recitation 2, CIS 2033, Spring 17\n",
    "\n",
    "## Simulating Randonmess in `python`.\n",
    "Whether you investigate the motions of microscopic molecules or study the popularity of electoral candidates,\n",
    "you see randomness (or at least apparent randomness) almost everywhere. \n",
    "\n",
    "### Why simulate randomness?\n",
    "In addition to phenomena that are genuinely random, we often use randomness when modeling complicated systems\n",
    "to abstract away those aspects of the phenomenon for which we do not have useful simple models.\n",
    "In other words, we try to model those parts of a process that we can explain in relatively simple terms, and we assume, true or not, that the rest is noise. To put this differently, we model what we can, and whatever it happens to be left out, we attribute to randomness. These are just some of the reasons why it's important to understand how to simulate random numbers and random processes using `python`.\n",
    "\n",
    "### How to simulate randomness in  `python`.\n",
    "\n",
    "Let's start by looking at how to carry out perhaps the simplest random process -  the flip of a single coin. We can\n",
    "use the `random.choice()` function to do this:"
   ]
  },
  {
   "cell_type": "code",
   "execution_count": null,
   "metadata": {
    "collapsed": false
   },
   "outputs": [],
   "source": [
    "import numpy as np\n",
    "import random \n",
    "\n",
    "random.choice([\"H\", \"T\"])"
   ]
  },
  {
   "cell_type": "markdown",
   "metadata": {},
   "source": [
    "Often it's more useful, however, to re-label the side of the coin with `0` to `1`. So instead of using list of strings, as we did in the above example, we will be using a list of two integers as our argument of the `random.choice()` function."
   ]
  },
  {
   "cell_type": "code",
   "execution_count": null,
   "metadata": {
    "collapsed": false
   },
   "outputs": [],
   "source": [
    "random.choice([0, 1])"
   ]
  },
  {
   "cell_type": "markdown",
   "metadata": {},
   "source": [
    "### Simulating the roll of a die"
   ]
  },
  {
   "cell_type": "code",
   "execution_count": null,
   "metadata": {
    "collapsed": false
   },
   "outputs": [],
   "source": [
    "random.choice([1, 2, 3, 4, 5, 6])"
   ]
  },
  {
   "cell_type": "markdown",
   "metadata": {},
   "source": [
    "We could also implement this using a `range` object. If you we use `range`, we just have to be careful when specifying the start and stop values. Instead of passing a list of integers to `random.choice()`, we insert a `range`.\n",
    "The first value has to be `1`, and the stopping value is going to be `7`. Remember that many `python` functions, like `range`, stop before they hit the stop value."
   ]
  },
  {
   "cell_type": "code",
   "execution_count": null,
   "metadata": {
    "collapsed": false
   },
   "outputs": [],
   "source": [
    "random.choice(range(1,7))"
   ]
  },
  {
   "cell_type": "markdown",
   "metadata": {},
   "source": [
    "Now let's try to roll the die 50 times:"
   ]
  },
  {
   "cell_type": "code",
   "execution_count": null,
   "metadata": {
    "collapsed": false
   },
   "outputs": [],
   "source": [
    "for i in range(51):\n",
    "    print(str(random.choice(range(1,7))) + \" \", end = \"\")"
   ]
  },
  {
   "cell_type": "markdown",
   "metadata": {},
   "source": [
    "### _A side note for budding pythonists_ \n",
    "When you explore the documentation for `random.choice()`,\n",
    "you'll find that you don't necessarily need to provide a list. Instead, _any sequence object_ will do.\n",
    "And because `range` is a sequence object, you can provide that as an argument to `random.choice()`.\n",
    "\n",
    "\n",
    "But it's worth taking a moment to think about what you're asking `python` to do\n",
    "if you had used the following line (I'm inserting my `range` object inside a list object):\n"
   ]
  },
  {
   "cell_type": "code",
   "execution_count": null,
   "metadata": {
    "collapsed": false
   },
   "outputs": [],
   "source": [
    "random.choice([range(1,7)])"
   ]
  },
  {
   "cell_type": "markdown",
   "metadata": {},
   "source": [
    "See what's happening? We know that random choice expects a sequence, which is what you\n",
    "have provided, in this case, a list.\n",
    "\n",
    "But that list contains only one object. What is that object? It's a range object. So when you run this line, `python` will always return a `range(1,7)` object to you because that's the only object or sequence the list contains.\n",
    "\n",
    "I mention this here because it could easily lead to a programming error."
   ]
  },
  {
   "cell_type": "markdown",
   "metadata": {},
   "source": [
    "## Examples of Randomness\n",
    "### Example 1 - Rolling a randomly selectd die\n",
    "\n",
    "Let's build on this idea to explore a somewhat harder example. Imagine a situation where you have three dice, one of them having six faces, one of them having eight faces, and one of them having ten faces. \n",
    "\n",
    "_How_ could you simulate one outcome for a process, where one of these dice, chosen uniformly at random, is rolled just one time? \n",
    "\n",
    "Here's what I would do. First, I would think about choosing a die, and then second, I would think about how to roll the die I just chose. Let's first implement all three die and then the selection among them,\n",
    "and then we'll finally simulate the role of the chosen die."
   ]
  },
  {
   "cell_type": "code",
   "execution_count": null,
   "metadata": {
    "collapsed": false
   },
   "outputs": [],
   "source": [
    "random.choice([range(1, 7), range(1, 9), range(1, 11)])  # will randomly select a die"
   ]
  },
  {
   "cell_type": "markdown",
   "metadata": {},
   "source": [
    "So what this line of code does so far is it picks one to three `range` objects uniformly at random.\n",
    "But as before, we can pick one of the numbers that's contained within a `range` object. So we can embed the code we have inside another `random.choice()` function."
   ]
  },
  {
   "cell_type": "code",
   "execution_count": null,
   "metadata": {
    "collapsed": false
   },
   "outputs": [],
   "source": [
    "random.choice(random.choice([range(1, 7), range(1, 9), range(1, 11)]))"
   ]
  },
  {
   "cell_type": "markdown",
   "metadata": {},
   "source": [
    "# Mini Homework\n",
    "\n",
    "1. Use `random.choice` and `range` to generate a random integer from 0-9. Enter your code in your `python` interpreter. What's the result?\n",
    "2. What will `random.choice(list([1,2,3,4]))` produce?\n",
    "    1. list([1,2,3,4])\n",
    "    2. [1,2,3,4]\n",
    "    3. A value from 1-4 , selected at random\n",
    "    4. This code contains an error.\n",
    "3. Which of the following lines of code sums random integers from 0-9?\n",
    "    1. sum(random.sample(range(10),10))\n",
    "    2. sum(random.choice(range(10),10))\n",
    "    3. random.sample_sum(range(10), 10)\n",
    "    4. sum(random.choice(range(10)) for i in range(10))"
   ]
  }
 ],
 "metadata": {
  "kernelspec": {
   "display_name": "Python 3",
   "language": "python",
   "name": "python3"
  },
  "language_info": {
   "codemirror_mode": {
    "name": "ipython",
    "version": 3
   },
   "file_extension": ".py",
   "mimetype": "text/x-python",
   "name": "python",
   "nbconvert_exporter": "python",
   "pygments_lexer": "ipython3",
   "version": "3.5.2"
  }
 },
 "nbformat": 4,
 "nbformat_minor": 0
}
