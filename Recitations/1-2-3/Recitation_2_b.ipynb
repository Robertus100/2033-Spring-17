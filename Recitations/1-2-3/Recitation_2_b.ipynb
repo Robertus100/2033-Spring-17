{
 "cells": [
  {
   "cell_type": "markdown",
   "metadata": {},
   "source": [
    "# Examples involving randomness \n",
    "\n",
    "We now work with a few examples that involve randomness. This is also an opportunity for us to practice some simple data visualization techniques.\n",
    "\n",
    "In the first example we roll a die 100 times and plot a histogram of the outcomes. A histogram here is a plot that shows how frequent the numbers from 1 to 6 appeared in the 100 samples.\n"
   ]
  },
  {
   "cell_type": "code",
   "execution_count": 1,
   "metadata": {
    "collapsed": false
   },
   "outputs": [
    {
     "data": {
      "text/plain": [
       "4"
      ]
     },
     "execution_count": 1,
     "metadata": {},
     "output_type": "execute_result"
    }
   ],
   "source": [
    "import random\n",
    "random.choice([1,2,3,4,5,6]) # throws one six-sided die once "
   ]
  },
  {
   "cell_type": "code",
   "execution_count": 4,
   "metadata": {
    "collapsed": false
   },
   "outputs": [
    {
     "name": "stdout",
     "output_type": "stream",
     "text": [
      "[2, 5, 6, 2, 1, 4, 5, 1, 3, 2, 3, 4, 2, 6, 2, 2, 5, 5, 4, 1, 5, 3, 2, 2, 1, 5, 2, 2, 2, 6, 5, 6, 2, 2, 5, 2, 2, 1, 6, 5, 4, 4, 4, 4, 4, 2, 1, 1, 5, 4, 1, 4, 3, 5, 5, 5, 6, 2, 2, 3, 6, 2, 6, 1, 2, 1, 2, 4, 3, 4, 6, 5, 2, 1, 5, 2, 5, 6, 1, 3, 6, 1, 2, 4, 2, 5, 2, 6, 1, 4, 5, 4, 6, 3, 5, 3, 6, 5, 1, 2]\n"
     ]
    }
   ],
   "source": [
    "# now roll it 100 times\n",
    "rolls = []\n",
    "for k in range(100):\n",
    "    rolls.append(random.choice([1,2,3,4,5,6]))\n",
    "print(rolls)"
   ]
  },
  {
   "cell_type": "code",
   "execution_count": 9,
   "metadata": {
    "collapsed": false
   },
   "outputs": [
    {
     "data": {
      "image/png": "[encoded data removed]",
      "text/plain": [
       "<matplotlib.figure.Figure at 0x1126630f0>"
      ]
     },
     "metadata": {},
     "output_type": "display_data"
    }
   ],
   "source": [
    "import matplotlib.pyplot as plt\n",
    "%matplotlib inline  \n",
    "import numpy as np\n",
    "plt.hist(rolls, bins = np.linspace(0.5, 6.5, 7));"
   ]
  },
  {
   "cell_type": "code",
   "execution_count": 12,
   "metadata": {
    "collapsed": false
   },
   "outputs": [
    {
     "data": {
      "image/png": "[encoded data removed]",
      "text/plain": [
       "<matplotlib.figure.Figure at 0x112e8fcc0>"
      ]
     },
     "metadata": {},
     "output_type": "display_data"
    }
   ],
   "source": [
    "#  re-roll the die 10,000 times and plot it\n",
    "rolls = []\n",
    "for k in range(10000):\n",
    "    rolls.append(random.choice([1,2,3,4,5,6]))\n",
    "plt.hist(rolls, bins = np.linspace(0.5, 6.5, 7));"
   ]
  },
  {
   "cell_type": "code",
   "execution_count": 13,
   "metadata": {
    "collapsed": false
   },
   "outputs": [
    {
     "data": {
      "image/png": "[encoded data removed]",
      "text/plain": [
       "<matplotlib.figure.Figure at 0x112faf828>"
      ]
     },
     "metadata": {},
     "output_type": "display_data"
    }
   ],
   "source": [
    "#  re-roll the die 10,000,000 times and plot it\n",
    "rolls = []\n",
    "for k in range(10000000):\n",
    "    rolls.append(random.choice([1,2,3,4,5,6]))\n",
    "plt.hist(rolls, bins = np.linspace(0.5, 6.5, 7));"
   ]
  },
  {
   "cell_type": "code",
   "execution_count": null,
   "metadata": {
    "collapsed": true
   },
   "outputs": [],
   "source": []
  }
 ],
 "metadata": {
  "kernelspec": {
   "display_name": "Python 3",
   "language": "python",
   "name": "python3"
  },
  "language_info": {
   "codemirror_mode": {
    "name": "ipython",
    "version": 3
   },
   "file_extension": ".py",
   "mimetype": "text/x-python",
   "name": "python",
   "nbconvert_exporter": "python",
   "pygments_lexer": "ipython3",
   "version": "3.5.2"
  }
 },
 "nbformat": 4,
 "nbformat_minor": 0
}
