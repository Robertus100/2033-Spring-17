{
 "cells": [
  {
   "cell_type": "markdown",
   "metadata": {},
   "source": [
    "# Numpy\n",
    "\n",
    "NumPy, a third party package for Python that extends the language with multi-dimensional arrays. NumPy is a very important part of the Python ecosystem, and it has become the fundamental package for scientific computing with Python. Here, we should take \"scientific\" to mean \"dealing with numbers and maths.\" So, whenever you have long sets of numbers or are doing math with them, NumPy is a good choice. Let's talk a bit about how NumPy arrays are different from Python containers.\n",
    "\n",
    "You may have heard Python variables described as labels. They are not little cubbies in computer memory, ready to receive a value. Rather, the values are independent objects with their own space in memory, and a Python variable just points there; it's a name for that object. You can have more than one variable referring to the same object. This mechanism is very flexible, and it also allows for lists and dictionaries with heterogeneous elements. However, doing that is not very efficient when you are dealing with lots of values of the same type.\n",
    "\n",
    "In that case, you may want to reserve a space in memory and just lay down all those values side by side. That's what a NumPy array is. Organizing data in this way is both faster, and more memory efficient. It's also necessary to interface Python with other languages such as C or Fortran, which count on data being laid out in memory in a simple fashion. \n",
    "\n",
    "#### Data types\n",
    "All the data items in an array need to have the same size, and NumPy needs to be very precise about identifying data types.\n",
    "\n",
    "Here NumPy is more precise than Python: while Python has just one type of integer, and one type of floating-point number, NumPy has several. This is also needed to interface with C or Fortran. So, NumPy identifies several types of integers, depending on the number of bits that they take in their memorial presentation. Int8, int16, int32, int64. The most common of this is int32. There are also unsigned varieties of these integers.\n",
    "\n",
    "Similarly, for floating-point numbers, where the most common type is float64, a double precision floating-point number, which is the same as a standard Python float. There are other, more specialized types, such as boolean, true or false, string and unicode string, which are the same as in Python, but for which, in NumPy, you need to specify the length in advance; NumPy Void, which lets you put together composite types made of different pieces; and NumPy Object, which is a bit of an exception, because it lets you refer to any type of Python object.\n",
    "\n",
    "Let's see NumPy arrays in action.\n",
    "\n",
    "## Creating Arrays\n",
    "\n"
   ]
  },
  {
   "cell_type": "code",
   "execution_count": null,
   "metadata": {
    "collapsed": true
   },
   "outputs": [],
   "source": [
    "import numpy as np"
   ]
  },
  {
   "cell_type": "code",
   "execution_count": null,
   "metadata": {
    "collapsed": false
   },
   "outputs": [],
   "source": [
    "a = np.array([1,2,3,4,5])\n",
    "a"
   ]
  },
  {
   "cell_type": "code",
   "execution_count": null,
   "metadata": {
    "collapsed": false
   },
   "outputs": [],
   "source": [
    "a.dtype"
   ]
  },
  {
   "cell_type": "code",
   "execution_count": null,
   "metadata": {
    "collapsed": false
   },
   "outputs": [],
   "source": [
    "a = np.array([1,2,3,4,5],dtype=np.float64)\n",
    "a"
   ]
  },
  {
   "cell_type": "code",
   "execution_count": null,
   "metadata": {
    "collapsed": false
   },
   "outputs": [],
   "source": [
    "a.ndim, a.shape, a.size"
   ]
  },
  {
   "cell_type": "code",
   "execution_count": null,
   "metadata": {
    "collapsed": true
   },
   "outputs": [],
   "source": [
    "b = np.array([[1,2,3,4,5],[6,7,8,9,10]],dtype=np.float64)"
   ]
  },
  {
   "cell_type": "code",
   "execution_count": null,
   "metadata": {
    "collapsed": false
   },
   "outputs": [],
   "source": [
    "b"
   ]
  },
  {
   "cell_type": "code",
   "execution_count": null,
   "metadata": {
    "collapsed": false
   },
   "outputs": [],
   "source": [
    "b.dtype"
   ]
  },
  {
   "cell_type": "code",
   "execution_count": null,
   "metadata": {
    "collapsed": false
   },
   "outputs": [],
   "source": [
    "b.ndim, b.shape, b.size"
   ]
  },
  {
   "cell_type": "code",
   "execution_count": null,
   "metadata": {
    "collapsed": false
   },
   "outputs": [],
   "source": [
    "np.zeros((3,3),'d')"
   ]
  },
  {
   "cell_type": "code",
   "execution_count": null,
   "metadata": {
    "collapsed": false
   },
   "outputs": [],
   "source": [
    "np.empty((4,4),'d')"
   ]
  },
  {
   "cell_type": "code",
   "execution_count": null,
   "metadata": {
    "collapsed": false
   },
   "outputs": [],
   "source": [
    "np.linspace(0,10,5)"
   ]
  },
  {
   "cell_type": "code",
   "execution_count": null,
   "metadata": {
    "collapsed": false
   },
   "outputs": [],
   "source": [
    "np.arange(0,10,2)"
   ]
  },
  {
   "cell_type": "code",
   "execution_count": null,
   "metadata": {
    "collapsed": false
   },
   "outputs": [],
   "source": [
    "np.random.standard_normal((2,4))"
   ]
  },
  {
   "cell_type": "code",
   "execution_count": null,
   "metadata": {
    "collapsed": false
   },
   "outputs": [],
   "source": [
    "a = np.random.standard_normal((2,3))\n",
    "b = np.random.standard_normal((2,3))\n",
    "\n",
    "np.vstack([a,b])"
   ]
  },
  {
   "cell_type": "code",
   "execution_count": null,
   "metadata": {
    "collapsed": false
   },
   "outputs": [],
   "source": [
    "np.hstack([a,b])"
   ]
  },
  {
   "cell_type": "code",
   "execution_count": null,
   "metadata": {
    "collapsed": false
   },
   "outputs": [],
   "source": [
    "a.transpose()"
   ]
  },
  {
   "cell_type": "code",
   "execution_count": null,
   "metadata": {
    "collapsed": true
   },
   "outputs": [],
   "source": [
    "np.save('example.npy',a)"
   ]
  },
  {
   "cell_type": "code",
   "execution_count": null,
   "metadata": {
    "collapsed": true
   },
   "outputs": [],
   "source": [
    "a1 = np.load('example.npy')"
   ]
  },
  {
   "cell_type": "code",
   "execution_count": null,
   "metadata": {
    "collapsed": false
   },
   "outputs": [],
   "source": [
    "a1"
   ]
  }
 ],
 "metadata": {
  "kernelspec": {
   "display_name": "Python 3",
   "language": "python",
   "name": "python3"
  },
  "language_info": {
   "codemirror_mode": {
    "name": "ipython",
    "version": 3
   },
   "file_extension": ".py",
   "mimetype": "text/x-python",
   "name": "python",
   "nbconvert_exporter": "python",
   "pygments_lexer": "ipython3",
   "version": "3.5.2"
  }
 },
 "nbformat": 4,
 "nbformat_minor": 0
}
