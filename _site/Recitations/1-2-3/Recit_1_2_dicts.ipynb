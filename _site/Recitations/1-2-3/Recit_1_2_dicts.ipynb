{
 "cells": [
  {
   "cell_type": "markdown",
   "metadata": {},
   "source": [
    "# Python Refresher \n",
    "## Part 2\n",
    "\n",
    "## Dictionaries\n",
    "\n",
    "While lists associate numerical indices, starting at zero with an order sequence of elements, dictionaries map names to values. Here, names is actually a little more general than strings. Numbers work just fine and, in general, any Python object that is hashable may be used as a name. Hashable means that Python can convert it to a number. That's true for many types of objects. What we're going to review in this movie is how to create Python dictionaries, known as dicts, how to look at the individual elements, how to merge dictionaries, and how to loop over dictionaries in a few different ways.\n",
    "\n",
    "In Python, dictionaries are denoted by curly braces with items separated by commas. Each item consists of a key (in this example, a country) and a value (in this example, the name of its capital).\n"
   ]
  },
  {
   "cell_type": "code",
   "execution_count": null,
   "metadata": {
    "collapsed": true
   },
   "outputs": [],
   "source": [
    "capitals = {'United States': 'Washington, DC','France': 'Paris','Italy': 'Rome'}"
   ]
  },
  {
   "cell_type": "code",
   "execution_count": null,
   "metadata": {
    "collapsed": false
   },
   "outputs": [],
   "source": [
    "capitals['Italy']"
   ]
  },
  {
   "cell_type": "code",
   "execution_count": null,
   "metadata": {
    "collapsed": false
   },
   "outputs": [],
   "source": [
    "'Germany' in capitals"
   ]
  },
  {
   "cell_type": "code",
   "execution_count": null,
   "metadata": {
    "collapsed": false
   },
   "outputs": [],
   "source": [
    "'Italy' in capitals"
   ]
  },
  {
   "cell_type": "markdown",
   "metadata": {},
   "source": [
    "Combining two dictionaries is a little more inconvenient than combining two lists. This is because the sum of two lists is simply the concatenation, but with dictionaries, we may have collisions between items.\n",
    "\n",
    "So the way to think about combining two dictionaries is that we have an existing dictionary and then we update it with a new one."
   ]
  },
  {
   "cell_type": "code",
   "execution_count": null,
   "metadata": {
    "collapsed": true
   },
   "outputs": [],
   "source": [
    "morecapitals = {'Germany': 'Berlin','United Kingdom': 'London'}"
   ]
  },
  {
   "cell_type": "code",
   "execution_count": null,
   "metadata": {
    "collapsed": false
   },
   "outputs": [],
   "source": [
    "capitals.update(morecapitals)\n",
    "capitals"
   ]
  },
  {
   "cell_type": "code",
   "execution_count": null,
   "metadata": {
    "collapsed": false
   },
   "outputs": [],
   "source": [
    "del capitals['United States']\n",
    "capitals"
   ]
  },
  {
   "cell_type": "markdown",
   "metadata": {},
   "source": [
    "Looping over a dictionary is very similar to looping over a list, however, there are three different kinds of loops you may want to do.\n",
    "\n",
    "The most straight forward's syntax, which is just for key in dictionary, gets you all the values of the keys so we may use it print the key and its associated value. If you want, you may even be more explicit and write the loop so that it's clear that you're looping over the keys. You can also loop over the values and you can loop over the keys and values together by writing a loop for a pair and using the method items of the dictionary.\n"
   ]
  },
  {
   "cell_type": "code",
   "execution_count": null,
   "metadata": {
    "collapsed": false
   },
   "outputs": [],
   "source": [
    "for key in capitals:\n",
    "    print(key,capitals[key])"
   ]
  },
  {
   "cell_type": "code",
   "execution_count": null,
   "metadata": {
    "collapsed": false
   },
   "outputs": [],
   "source": [
    "for key in capitals.keys():\n",
    "    print(key)"
   ]
  },
  {
   "cell_type": "code",
   "execution_count": null,
   "metadata": {
    "collapsed": false
   },
   "outputs": [],
   "source": [
    "for value in capitals.values():\n",
    "    print(value)"
   ]
  },
  {
   "cell_type": "code",
   "execution_count": null,
   "metadata": {
    "collapsed": false
   },
   "outputs": [],
   "source": [
    "for key,value in capitals.items():\n",
    "    print(key,value)"
   ]
  }
 ],
 "metadata": {
  "kernelspec": {
   "display_name": "Python 3",
   "language": "python",
   "name": "python3"
  },
  "language_info": {
   "codemirror_mode": {
    "name": "ipython",
    "version": 3
   },
   "file_extension": ".py",
   "mimetype": "text/x-python",
   "name": "python",
   "nbconvert_exporter": "python",
   "pygments_lexer": "ipython3",
   "version": "3.5.2"
  }
 },
 "nbformat": 4,
 "nbformat_minor": 0
}
